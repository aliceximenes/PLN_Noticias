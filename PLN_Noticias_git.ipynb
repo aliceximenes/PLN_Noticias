{
 "cells": [
  {
   "cell_type": "markdown",
   "metadata": {},
   "source": [
    "## PLN em notícias do Diário do Nordeste"
   ]
  },
  {
   "cell_type": "markdown",
   "metadata": {},
   "source": [
    "Esse notebook tem o intuito de utilizar processamento de linguagem natural para analisar e agrupar notícias do Diário do Nordeste considerando o editorial pertencente. É necessário tratar as notícias para a realização do processo de agrupamento, e porteriormente, classificação. A seguir estão as etapas que forão realizadas:\n",
    "\n",
    "- Tokenizar\n",
    "- Normalizar\n",
    "- Remoção de stopwords\n",
    "- Stemming\n",
    "- Cálculo do termo-documento (TF-IDF)\n",
    "- Cálculo do centróide para cada editorial (*Rocchio classifier*)\n",
    "- Cálculo da distância média ao centróide \n",
    "\n",
    "Vamos começar!"
   ]
  },
  {
   "cell_type": "code",
   "execution_count": 1,
   "metadata": {
    "colab": {
     "base_uri": "https://localhost:8080/",
     "height": 85
    },
    "colab_type": "code",
    "id": "abwLv2KpPSmD",
    "outputId": "332800b1-ccc0-4134-b0de-53c5b16d2402",
    "scrolled": true
   },
   "outputs": [
    {
     "name": "stderr",
     "output_type": "stream",
     "text": [
      "[nltk_data] Downloading package stopwords to\n",
      "[nltk_data]     C:\\Users\\anaal\\AppData\\Roaming\\nltk_data...\n",
      "[nltk_data]   Package stopwords is already up-to-date!\n",
      "[nltk_data] Downloading package punkt to\n",
      "[nltk_data]     C:\\Users\\anaal\\AppData\\Roaming\\nltk_data...\n",
      "[nltk_data]   Package punkt is already up-to-date!\n"
     ]
    }
   ],
   "source": [
    "#Bibliotecas utilizadas\n",
    "import csv\n",
    "import pandas as pd\n",
    "import numpy as np\n",
    "import nltk\n",
    "import math\n",
    "nltk.download('stopwords')\n",
    "nltk.download('punkt')\n",
    "from nltk.stem.snowball import SnowballStemmer\n",
    "from sklearn.feature_extraction.text import TfidfTransformer\n",
    "from sklearn.feature_extraction.text import CountVectorizer\n",
    "from sklearn.neighbors import NearestCentroid\n",
    "from sklearn.model_selection import train_test_split\n",
    "from sklearn.metrics import accuracy_score\n",
    "import matplotlib.pyplot as plt\n",
    "%matplotlib inline\n",
    "import altair as alt"
   ]
  },
  {
   "cell_type": "code",
   "execution_count": 2,
   "metadata": {
    "colab": {},
    "colab_type": "code",
    "id": "6U7dimNuUyqF"
   },
   "outputs": [],
   "source": [
    "#Baixando as Stopwords e Stemming em português:\n",
    "stemmer = SnowballStemmer('portuguese')\n",
    "stopwords = nltk.corpus.stopwords.words('portuguese')\n",
    "\n",
    "# acrescentando algumas palavras para stopwords\n",
    "stopwords.append(\"r\")\n",
    "stopwords.append(\"a\")\n",
    "stopwords.append(\"o\")\n",
    "stopwords.append(\"``\")\n",
    "stopwords.append(\"\\'\\'\")"
   ]
  },
  {
   "cell_type": "markdown",
   "metadata": {},
   "source": [
    "### Sobre os dados"
   ]
  },
  {
   "cell_type": "code",
   "execution_count": 3,
   "metadata": {
    "colab": {
     "base_uri": "https://localhost:8080/",
     "height": 589
    },
    "colab_type": "code",
    "id": "eNtAff0lQg3Z",
    "outputId": "9cc9bc4c-d20e-4c74-d244-673838918ee5",
    "scrolled": false
   },
   "outputs": [
    {
     "data": {
      "text/html": [
       "<div>\n",
       "<style scoped>\n",
       "    .dataframe tbody tr th:only-of-type {\n",
       "        vertical-align: middle;\n",
       "    }\n",
       "\n",
       "    .dataframe tbody tr th {\n",
       "        vertical-align: top;\n",
       "    }\n",
       "\n",
       "    .dataframe thead th {\n",
       "        text-align: right;\n",
       "    }\n",
       "</style>\n",
       "<table border=\"1\" class=\"dataframe\">\n",
       "  <thead>\n",
       "    <tr style=\"text-align: right;\">\n",
       "      <th></th>\n",
       "      <th>editorial</th>\n",
       "      <th>texto</th>\n",
       "      <th>titulo</th>\n",
       "      <th>data</th>\n",
       "      <th>autor</th>\n",
       "    </tr>\n",
       "  </thead>\n",
       "  <tbody>\n",
       "    <tr>\n",
       "      <th>0</th>\n",
       "      <td>Jogada</td>\n",
       "      <td>A delegação do Liverpool já voltou para casa, ...</td>\n",
       "      <td>Alisson exalta atuação de Firmino no Mundial: ...</td>\n",
       "      <td>2019-12-23 12:08:31</td>\n",
       "      <td>Conteúdo Estadão</td>\n",
       "    </tr>\n",
       "    <tr>\n",
       "      <th>1</th>\n",
       "      <td>Jogada</td>\n",
       "      <td>Recentemente contratado para o cargo técnico d...</td>\n",
       "      <td>Abel Braga estuda entrar na Justiça para exigi...</td>\n",
       "      <td>2019-12-23 11:39:54</td>\n",
       "      <td>Redação</td>\n",
       "    </tr>\n",
       "    <tr>\n",
       "      <th>2</th>\n",
       "      <td>Jogada</td>\n",
       "      <td>Com passagem pelas categorias de base do Ceará...</td>\n",
       "      <td>Vice-presidente do Flamengo publica foto de jo...</td>\n",
       "      <td>2019-12-23 10:48:00</td>\n",
       "      <td>Redação</td>\n",
       "    </tr>\n",
       "    <tr>\n",
       "      <th>3</th>\n",
       "      <td>Jogada</td>\n",
       "      <td>Mateus Gonçalves fica no Ceará para 2020! O at...</td>\n",
       "      <td>Mateus Gonçalves confirma renovação com o Cear...</td>\n",
       "      <td>2019-12-23 09:05:00</td>\n",
       "      <td>Redação</td>\n",
       "    </tr>\n",
       "    <tr>\n",
       "      <th>4</th>\n",
       "      <td>Jogada</td>\n",
       "      <td>Com uma derrota por 4 a 2 para o Caucaia, no E...</td>\n",
       "      <td>Com velhos conhecidos, Icasa busca retornar ao...</td>\n",
       "      <td>2019-12-23 00:00:00</td>\n",
       "      <td>Antônio Rodrigues</td>\n",
       "    </tr>\n",
       "    <tr>\n",
       "      <th>5</th>\n",
       "      <td>Jogada</td>\n",
       "      <td>A torcida do Ceará já está acostumada a confer...</td>\n",
       "      <td>Vai ter presente? Veja quem o Ceará deve anunc...</td>\n",
       "      <td>2019-12-23 00:00:00</td>\n",
       "      <td>Gustavo de Negreiros</td>\n",
       "    </tr>\n",
       "    <tr>\n",
       "      <th>6</th>\n",
       "      <td>Jogada</td>\n",
       "      <td>O jogo já estava 2 a 0 para o Chelsea sobre o ...</td>\n",
       "      <td>Rüdiger, do Chelsea, é vítima de racismo em cl...</td>\n",
       "      <td>2019-12-22 19:02:12</td>\n",
       "      <td>Folha Press</td>\n",
       "    </tr>\n",
       "    <tr>\n",
       "      <th>7</th>\n",
       "      <td>Jogada</td>\n",
       "      <td>Três dias após conquistar seu primeiro título ...</td>\n",
       "      <td>\"Prefiro não jogar esse jogo\", diz Italo Ferre...</td>\n",
       "      <td>2019-12-22 18:50:00</td>\n",
       "      <td>Folha Press</td>\n",
       "    </tr>\n",
       "    <tr>\n",
       "      <th>8</th>\n",
       "      <td>Jogada</td>\n",
       "      <td>De olho nos Jogos Olímpicos de Tóquio, em 2020...</td>\n",
       "      <td>De olho nos Jogos de Tóquio, seleção feminina ...</td>\n",
       "      <td>2019-12-22 18:43:00</td>\n",
       "      <td>Conteúdo Estadão</td>\n",
       "    </tr>\n",
       "    <tr>\n",
       "      <th>9</th>\n",
       "      <td>Jogada</td>\n",
       "      <td>Já trabalhando para a temporada de 2020, onde ...</td>\n",
       "      <td>Ferroviário é derrotado pelo Potiguar-RN em am...</td>\n",
       "      <td>2019-12-22 18:19:00</td>\n",
       "      <td>Redação</td>\n",
       "    </tr>\n",
       "  </tbody>\n",
       "</table>\n",
       "</div>"
      ],
      "text/plain": [
       "  editorial                                              texto  \\\n",
       "0    Jogada  A delegação do Liverpool já voltou para casa, ...   \n",
       "1    Jogada  Recentemente contratado para o cargo técnico d...   \n",
       "2    Jogada  Com passagem pelas categorias de base do Ceará...   \n",
       "3    Jogada  Mateus Gonçalves fica no Ceará para 2020! O at...   \n",
       "4    Jogada  Com uma derrota por 4 a 2 para o Caucaia, no E...   \n",
       "5    Jogada  A torcida do Ceará já está acostumada a confer...   \n",
       "6    Jogada  O jogo já estava 2 a 0 para o Chelsea sobre o ...   \n",
       "7    Jogada  Três dias após conquistar seu primeiro título ...   \n",
       "8    Jogada  De olho nos Jogos Olímpicos de Tóquio, em 2020...   \n",
       "9    Jogada  Já trabalhando para a temporada de 2020, onde ...   \n",
       "\n",
       "                                              titulo                 data  \\\n",
       "0  Alisson exalta atuação de Firmino no Mundial: ...  2019-12-23 12:08:31   \n",
       "1  Abel Braga estuda entrar na Justiça para exigi...  2019-12-23 11:39:54   \n",
       "2  Vice-presidente do Flamengo publica foto de jo...  2019-12-23 10:48:00   \n",
       "3  Mateus Gonçalves confirma renovação com o Cear...  2019-12-23 09:05:00   \n",
       "4  Com velhos conhecidos, Icasa busca retornar ao...  2019-12-23 00:00:00   \n",
       "5  Vai ter presente? Veja quem o Ceará deve anunc...  2019-12-23 00:00:00   \n",
       "6  Rüdiger, do Chelsea, é vítima de racismo em cl...  2019-12-22 19:02:12   \n",
       "7  \"Prefiro não jogar esse jogo\", diz Italo Ferre...  2019-12-22 18:50:00   \n",
       "8  De olho nos Jogos de Tóquio, seleção feminina ...  2019-12-22 18:43:00   \n",
       "9  Ferroviário é derrotado pelo Potiguar-RN em am...  2019-12-22 18:19:00   \n",
       "\n",
       "                  autor  \n",
       "0      Conteúdo Estadão  \n",
       "1               Redação  \n",
       "2               Redação  \n",
       "3               Redação  \n",
       "4     Antônio Rodrigues  \n",
       "5  Gustavo de Negreiros  \n",
       "6           Folha Press  \n",
       "7           Folha Press  \n",
       "8      Conteúdo Estadão  \n",
       "9               Redação  "
      ]
     },
     "execution_count": 3,
     "metadata": {},
     "output_type": "execute_result"
    }
   ],
   "source": [
    "# Importando as notícias\n",
    "dados = pd.read_csv('noticias.csv',encoding='utf-8') #acrescentar encoding='utf-8'\n",
    "dados.head(10)"
   ]
  },
  {
   "cell_type": "code",
   "execution_count": 4,
   "metadata": {},
   "outputs": [
    {
     "name": "stdout",
     "output_type": "stream",
     "text": [
      "Quantidade de notícias/documentos importados:  2168\n"
     ]
    }
   ],
   "source": [
    "print(\"Quantidade de notícias/documentos importados: \", len(dados))"
   ]
  },
  {
   "cell_type": "markdown",
   "metadata": {},
   "source": [
    "**Editorias com maior número de notícias:**"
   ]
  },
  {
   "cell_type": "code",
   "execution_count": 11,
   "metadata": {
    "scrolled": true
   },
   "outputs": [
    {
     "data": {
      "text/html": [
       "\n",
       "<div id=\"altair-viz-7c731a627a5d4d9a8da95565e7d14547\"></div>\n",
       "<script type=\"text/javascript\">\n",
       "  (function(spec, embedOpt){\n",
       "    let outputDiv = document.currentScript.previousElementSibling;\n",
       "    if (outputDiv.id !== \"altair-viz-7c731a627a5d4d9a8da95565e7d14547\") {\n",
       "      outputDiv = document.getElementById(\"altair-viz-7c731a627a5d4d9a8da95565e7d14547\");\n",
       "    }\n",
       "    const paths = {\n",
       "      \"vega\": \"https://cdn.jsdelivr.net/npm//vega@5?noext\",\n",
       "      \"vega-lib\": \"https://cdn.jsdelivr.net/npm//vega-lib?noext\",\n",
       "      \"vega-lite\": \"https://cdn.jsdelivr.net/npm//vega-lite@4.8.1?noext\",\n",
       "      \"vega-embed\": \"https://cdn.jsdelivr.net/npm//vega-embed@6?noext\",\n",
       "    };\n",
       "\n",
       "    function loadScript(lib) {\n",
       "      return new Promise(function(resolve, reject) {\n",
       "        var s = document.createElement('script');\n",
       "        s.src = paths[lib];\n",
       "        s.async = true;\n",
       "        s.onload = () => resolve(paths[lib]);\n",
       "        s.onerror = () => reject(`Error loading script: ${paths[lib]}`);\n",
       "        document.getElementsByTagName(\"head\")[0].appendChild(s);\n",
       "      });\n",
       "    }\n",
       "\n",
       "    function showError(err) {\n",
       "      outputDiv.innerHTML = `<div class=\"error\" style=\"color:red;\">${err}</div>`;\n",
       "      throw err;\n",
       "    }\n",
       "\n",
       "    function displayChart(vegaEmbed) {\n",
       "      vegaEmbed(outputDiv, spec, embedOpt)\n",
       "        .catch(err => showError(`Javascript Error: ${err.message}<br>This usually means there's a typo in your chart specification. See the javascript console for the full traceback.`));\n",
       "    }\n",
       "\n",
       "    if(typeof define === \"function\" && define.amd) {\n",
       "      requirejs.config({paths});\n",
       "      require([\"vega-embed\"], displayChart, err => showError(`Error loading script: ${err.message}`));\n",
       "    } else if (typeof vegaEmbed === \"function\") {\n",
       "      displayChart(vegaEmbed);\n",
       "    } else {\n",
       "      loadScript(\"vega\")\n",
       "        .then(() => loadScript(\"vega-lite\"))\n",
       "        .then(() => loadScript(\"vega-embed\"))\n",
       "        .catch(showError)\n",
       "        .then(() => displayChart(vegaEmbed));\n",
       "    }\n",
       "  })({\"config\": {\"view\": {\"continuousWidth\": 400, \"continuousHeight\": 300}}, \"layer\": [{\"mark\": {\"type\": \"bar\", \"color\": \"red\", \"opacity\": 0.7}, \"encoding\": {\"x\": {\"type\": \"quantitative\", \"field\": \"qtd\"}, \"y\": {\"type\": \"nominal\", \"field\": \"editorial\", \"sort\": \"-x\"}}, \"height\": 300, \"title\": \"Quantidade de not\\u00edcias por editorial\", \"width\": 850}, {\"mark\": {\"type\": \"text\", \"align\": \"left\", \"baseline\": \"middle\", \"dx\": 3}, \"encoding\": {\"text\": {\"type\": \"quantitative\", \"field\": \"qtd\"}, \"x\": {\"type\": \"quantitative\", \"field\": \"qtd\"}, \"y\": {\"type\": \"nominal\", \"field\": \"editorial\", \"sort\": \"-x\"}}, \"height\": 300, \"title\": \"Quantidade de not\\u00edcias por editorial\", \"width\": 850}], \"data\": {\"name\": \"data-d86fffaad2edd9ff816808d4ad633553\"}, \"$schema\": \"https://vega.github.io/schema/vega-lite/v4.8.1.json\", \"datasets\": {\"data-d86fffaad2edd9ff816808d4ad633553\": [{\"editorial\": \"Neg\\u00f3cios\", \"qtd\": 416}, {\"editorial\": \"Jogada\", \"qtd\": 365}, {\"editorial\": \"Verso\", \"qtd\": 360}, {\"editorial\": \"Seguran\\u00e7a\", \"qtd\": 271}, {\"editorial\": \"Pol\\u00edtica\", \"qtd\": 266}, {\"editorial\": \"Metro\", \"qtd\": 264}, {\"editorial\": \"Pa\\u00eds\", \"qtd\": 143}, {\"editorial\": \"Regi\\u00e3o\", \"qtd\": 83}]}}, {\"mode\": \"vega-lite\"});\n",
       "</script>"
      ],
      "text/plain": [
       "alt.LayerChart(...)"
      ]
     },
     "execution_count": 11,
     "metadata": {},
     "output_type": "execute_result"
    }
   ],
   "source": [
    "df_edi=dados.groupby('editorial').size().sort_values(ascending=False).reset_index().rename(columns={0:'qtd'})\n",
    "chart=alt.Chart(df_edi).mark_bar(\n",
    "    color='red',\n",
    "    opacity=0.7\n",
    "    ).encode(\n",
    "        x='qtd',\n",
    "        y=alt.Y('editorial', sort='-x')\n",
    "    ).properties(\n",
    "            title='Quantidade de notícias por editorial',\n",
    "            height = 300,\n",
    "            width = 850,\n",
    "            )\n",
    "\n",
    "text = chart.mark_text(\n",
    "        align='left',\n",
    "        baseline='middle',\n",
    "        dx=3  \n",
    "    ).encode(\n",
    "            text='qtd'\n",
    "        )\n",
    "\n",
    "chart_final=(chart + text)#.properties(height=300, width=850)\n",
    "chart_final.save('frequencia_editorial.html')\n",
    "chart_final\n"
   ]
  },
  {
   "cell_type": "code",
   "execution_count": 6,
   "metadata": {},
   "outputs": [
    {
     "data": {
      "text/plain": [
       "<matplotlib.axes._subplots.AxesSubplot at 0x216ef4d8278>"
      ]
     },
     "execution_count": 6,
     "metadata": {},
     "output_type": "execute_result"
    },
    {
     "data": {
      "image/png": "[encoded data removed]",
      "text/plain": [
       "<Figure size 576x576 with 1 Axes>"
      ]
     },
     "metadata": {
      "needs_background": "light"
     },
     "output_type": "display_data"
    }
   ],
   "source": [
    "dados['editorial'].value_counts().head(10).plot(kind='bar',figsize=(8,8))"
   ]
  },
  {
   "cell_type": "markdown",
   "metadata": {},
   "source": [
    "### Tratamento das notícias"
   ]
  },
  {
   "cell_type": "code",
   "execution_count": 6,
   "metadata": {
    "colab": {},
    "colab_type": "code",
    "id": "3H33ipR4TYd1"
   },
   "outputs": [],
   "source": [
    "noticias=dados['texto']"
   ]
  },
  {
   "cell_type": "code",
   "execution_count": 7,
   "metadata": {},
   "outputs": [],
   "source": [
    "#Removendo stopwords,\"tokenizando\", aplicando stemmer e removendo caracteres indesejáveis\n",
    "undesired = [',','.',\"'\",'\"','´','`',';',':','-','?','!','%','(',')','\\t','\\n','\\\\','//','$','-','“']\n",
    "noticias_tratadas = []\n",
    "for k in noticias:\n",
    "    token=nltk.word_tokenize(k, language='portuguese')\n",
    "    token_norm=[palavra.lower() for palavra in token if palavra.isalpha()]\n",
    "    token_stem=[stemmer.stem(palavra) for palavra in token_norm if palavra not in stopwords and not palavra in undesired ]\n",
    "    noticias_tratadas.append(\" \".join(token_stem))\n",
    "    \n",
    "dados['texto']=noticias_tratadas"
   ]
  },
  {
   "cell_type": "markdown",
   "metadata": {},
   "source": [
    "Após o tratamento as notícias ficam dessa forma:"
   ]
  },
  {
   "cell_type": "code",
   "execution_count": 8,
   "metadata": {
    "scrolled": true
   },
   "outputs": [
    {
     "data": {
      "text/plain": [
       "'deleg liverpool volt cas após conquist mundial club doh cat clim fest aind acab desembarqu goleir alisson elogi qualidad robert firmin companheir seleçã brasileir após gols decis marc marc gols vitór liverpool tant semifinal contr monterrey quant final contr flameng sáb decisã gol saiu soment primeir temp prorrog demonstr nervos ansiedad firmin aproveit tim inglês dribl rodrig cai goleir dieg alves vez bat red qualidad bobby diss goleir apel firmin club inglês moviment calm diant gol trein entã trein assim concentr cheg gram faz cois cert feliz ter marc car merec tud feliz junt firmin alisson conquist quatr títul ano send seleçã brasileir cop amér levant troféu lig campeõ supercop europ agor mundial club quant títul club faz part primeir tim inglês obter três conquist ano quebr lev liverpool primeir títul mundial incrível primeir tim dest club sagr campeã mundial comemor alisson feliz estar aqu estar traz troféu cidad club amam futebol amam jog cad tornei vir futur após desembarc sol inglês noit dest doming club comec pens próx desafi campeonat inglês maior obsessã torc nest tempor tim fort lut títul brig conquist tempor pass lut nov próxim desafi liverpool contr leicest city venc cas tim alisson firmin vã ampli vantag lider hoj dez pont jog men tabel'"
      ]
     },
     "execution_count": 8,
     "metadata": {},
     "output_type": "execute_result"
    }
   ],
   "source": [
    "dados.iloc[0,1]"
   ]
  },
  {
   "cell_type": "markdown",
   "metadata": {
    "colab_type": "text",
    "id": "6UKXFOEz7Y8Y"
   },
   "source": [
    "### Cálculo TF-IDF"
   ]
  },
  {
   "cell_type": "markdown",
   "metadata": {},
   "source": [
    "Primeiro vamos criar uma matriz que possui a contagem das palavras em cada notícia (*Bag of words*). "
   ]
  },
  {
   "cell_type": "code",
   "execution_count": 9,
   "metadata": {},
   "outputs": [
    {
     "name": "stdout",
     "output_type": "stream",
     "text": [
      "O corpus possui 20326 tokens, ou seja, a matriz resultante possui essa quantidade de colunas.\n",
      "A matriz possui 2168 linhas, representando cada notícia/documento.\n"
     ]
    }
   ],
   "source": [
    "cv = CountVectorizer()\n",
    "matriz_freq = cv.fit_transform(noticias_tratadas)\n",
    "print('O corpus possui', matriz_freq.shape[1], 'tokens, ou seja, a matriz resultante possui essa quantidade de colunas.')\n",
    "print('A matriz possui', matriz_freq.shape[0], 'linhas, representando cada notícia/documento.')"
   ]
  },
  {
   "cell_type": "markdown",
   "metadata": {},
   "source": [
    "Em seguida, a função *TfidfTransformer* calcula o TF-IDF:"
   ]
  },
  {
   "cell_type": "code",
   "execution_count": 10,
   "metadata": {
    "colab": {
     "base_uri": "https://localhost:8080/",
     "height": 34
    },
    "colab_type": "code",
    "id": "8aSwQlmY7IdG",
    "outputId": "4d981fbc-9627-4ade-e29b-34a6de10947c"
   },
   "outputs": [],
   "source": [
    "#Calcula o TF-IDF para cada token\n",
    "tf_idf = TfidfTransformer(use_idf=True).fit(matriz_freq)\n",
    "#Implementa os valores nos respectivos índices da matriz\n",
    "text_tf_idf = tf_idf.transform(matriz_freq)"
   ]
  },
  {
   "cell_type": "markdown",
   "metadata": {
    "colab_type": "text",
    "id": "a7l-QNpDVFnO"
   },
   "source": [
    "### Cálculo do centróide para cada editorial"
   ]
  },
  {
   "cell_type": "markdown",
   "metadata": {},
   "source": [
    "Separação das notícias em treino e teste:"
   ]
  },
  {
   "cell_type": "code",
   "execution_count": 11,
   "metadata": {},
   "outputs": [],
   "source": [
    "text_tf_idf_train, text_tf_idf_test, editoriais_train, editoriais_test = train_test_split(text_tf_idf, dados['editorial'], test_size=0.25, random_state=0)"
   ]
  },
  {
   "cell_type": "markdown",
   "metadata": {},
   "source": [
    "Cálculo dos centróides com a base de treino:"
   ]
  },
  {
   "cell_type": "code",
   "execution_count": 12,
   "metadata": {
    "colab": {},
    "colab_type": "code",
    "id": "2RtCVp9ZUWl4"
   },
   "outputs": [],
   "source": [
    "noticias = dados.texto[editoriais_train.index]\n",
    "editoriais = editoriais_train\n",
    "\n",
    "#calculando centróides de cada editorial no espaço do tfidf\n",
    "modelo = NearestCentroid().fit(text_tf_idf_train, editoriais)\n",
    "centroides = modelo.centroids_"
   ]
  },
  {
   "cell_type": "markdown",
   "metadata": {},
   "source": [
    "Valores preditos no teste:"
   ]
  },
  {
   "cell_type": "code",
   "execution_count": 13,
   "metadata": {},
   "outputs": [
    {
     "name": "stdout",
     "output_type": "stream",
     "text": [
      "A acurácia do teste é de 80.44280442804428\n"
     ]
    }
   ],
   "source": [
    "prediction=modelo.predict(text_tf_idf_test.toarray())\n",
    "print('A acurácia do teste é de', 100*accuracy_score(editoriais_test, prediction))"
   ]
  },
  {
   "cell_type": "markdown",
   "metadata": {},
   "source": [
    "### Cálculo da distância média ao centroide em cada editorial:"
   ]
  },
  {
   "cell_type": "code",
   "execution_count": 14,
   "metadata": {},
   "outputs": [
    {
     "name": "stdout",
     "output_type": "stream",
     "text": [
      "Distância média ao centroide das 272 noticias do editorial Jogada: 0.9448251498359613\n",
      "Distância média ao centroide das 191 noticias do editorial Metro: 0.972320173102721\n",
      "Distância média ao centroide das 316 noticias do editorial Negócios: 0.9694605952470875\n",
      "Distância média ao centroide das 111 noticias do editorial País: 0.97349847423664\n",
      "Distância média ao centroide das 203 noticias do editorial Política: 0.9537168519546201\n",
      "Distância média ao centroide das 58 noticias do editorial Região: 0.9632093507971093\n",
      "Distância média ao centroide das 199 noticias do editorial Segurança: 0.9536789586284118\n",
      "Distância média ao centroide das 276 noticias do editorial Verso: 0.9781001405778365\n"
     ]
    }
   ],
   "source": [
    "#calculando a distância média das notícias de um editorial para seu centróide\n",
    "for (editorial, centroide) in zip(modelo.classes_, centroides):\n",
    "  #obtendo índices das notícias de um editorial\n",
    "  indices = editoriais[editoriais==editorial].index.values\n",
    "  #obtendo as notícias do editorial\n",
    "  noticias_editorial = text_tf_idf[indices]\n",
    "  #calculando a distância de cada notícia ao centróide\n",
    "  distancias = [np.linalg.norm(n - centroide) for n in noticias_editorial[:,:]]\n",
    "  #tirando a média das distâncias\n",
    "  media = np.mean(distancias)\n",
    "\n",
    "  print(\"Distância média ao centroide das {} noticias do editorial {}: {}\".format(noticias_editorial.shape[0], editorial, media))"
   ]
  },
  {
   "cell_type": "code",
   "execution_count": null,
   "metadata": {},
   "outputs": [],
   "source": []
  }
 ],
 "metadata": {
  "colab": {
   "collapsed_sections": [],
   "name": "tratamento_noticias_final2.ipynb",
   "provenance": []
  },
  "kernelspec": {
   "display_name": "Python 3",
   "language": "python",
   "name": "python3"
  },
  "language_info": {
   "codemirror_mode": {
    "name": "ipython",
    "version": 3
   },
   "file_extension": ".py",
   "mimetype": "text/x-python",
   "name": "python",
   "nbconvert_exporter": "python",
   "pygments_lexer": "ipython3",
   "version": "3.7.3"
  }
 },
 "nbformat": 4,
 "nbformat_minor": 1
}
